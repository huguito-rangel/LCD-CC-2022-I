{
  "nbformat": 4,
  "nbformat_minor": 0,
  "metadata": {
    "colab": {
      "name": "ConceptosBasicos.ipynb",
      "provenance": [],
      "collapsed_sections": [],
      "authorship_tag": "ABX9TyMhe39K+uxVsL1VsMM55Hyg"
    },
    "kernelspec": {
      "name": "python3",
      "display_name": "Python 3"
    },
    "language_info": {
      "name": "python"
    }
  },
  "cells": [
    {
      "cell_type": "markdown",
      "metadata": {
        "id": "BF5_p8S4iI7Q"
      },
      "source": [
        "## Multiprocessing\n"
      ]
    },
    {
      "cell_type": "markdown",
      "metadata": {
        "id": "0b7Bh0CEiBan"
      },
      "source": [
        "`multiprocessing` es un paquete de Python que permite la creación de procesos y ofrece concurrencia local.\n",
        "\n",
        "Una manera sencilla de crear un proceso es por medio de la construcción de un objeto de tipo `Process` e invocarlo por medio del método `start()`"
      ]
    },
    {
      "cell_type": "code",
      "metadata": {
        "colab": {
          "base_uri": "https://localhost:8080/"
        },
        "id": "uBv26Q8Ohip4",
        "outputId": "f234bb60-28a2-443c-9c30-755a27f25527"
      },
      "source": [
        "import multiprocessing as mp\n",
        "\n",
        "def tarea(cadena):\n",
        "    print('Hola ', cadena)\n",
        "\n",
        "if __name__ == '__main__':\n",
        "    p = mp.Process(target=tarea, args=('Hugo',))\n",
        "    p.start()\n",
        "    p.join()"
      ],
      "execution_count": null,
      "outputs": [
        {
          "output_type": "stream",
          "name": "stdout",
          "text": [
            "Hola  Hugo\n"
          ]
        }
      ]
    },
    {
      "cell_type": "code",
      "metadata": {
        "colab": {
          "base_uri": "https://localhost:8080/"
        },
        "id": "-XExAPr_iVK8",
        "outputId": "df017b06-7f37-4875-d71b-418bbb1fb596"
      },
      "source": [
        "# ejemplo 2\n",
        "\n",
        "def calc_cuad(numeros):\n",
        "  print(\"Calcula el cuadrado de los números\")\n",
        "  for n in numeros:\n",
        "    print(\"Cuadrado:\", n*n)\n",
        "\n",
        "\n",
        "nums = range(10)\n",
        "p1 = mp.Process(target=calc_cuad, args=(nums,))\n",
        "p1.start()\n",
        "\n",
        "\n",
        "print(\"Termina la ejecución numérica\")"
      ],
      "execution_count": null,
      "outputs": [
        {
          "output_type": "stream",
          "name": "stdout",
          "text": [
            "Termina la ejecución numérica\n",
            "Calcula el cuadrado de los números\n",
            "Cuadrado: 0\n",
            "Cuadrado: 1\n",
            "Cuadrado: 4\n",
            "Cuadrado: 9\n",
            "Cuadrado: 16\n",
            "Cuadrado: 25\n",
            "Cuadrado: 36\n",
            "Cuadrado: 49\n",
            "Cuadrado: 64\n",
            "Cuadrado: 81\n"
          ]
        }
      ]
    },
    {
      "cell_type": "markdown",
      "metadata": {
        "id": "t3bO1_jllTRM"
      },
      "source": [
        "## Ejercicio 3\n",
        "\n",
        "Crea otro proceso P2 que calcule el cubo de el mismo conjunto `nums` y mándalos a escribir."
      ]
    },
    {
      "cell_type": "code",
      "metadata": {
        "colab": {
          "base_uri": "https://localhost:8080/"
        },
        "id": "bsiN2Q9SlP6E",
        "outputId": "3359eb61-65f8-4a44-bd48-f772ca46d128"
      },
      "source": [
        "def calc_cub(numeros):\n",
        "  for n in numeros:\n",
        "    print(\"Cubo:\", n*n*n)\n",
        "\n",
        "\n",
        "nums = range(10)\n",
        "p2 = mp.Process(target=calc_cub, args=(nums,))\n",
        "p2.start()"
      ],
      "execution_count": null,
      "outputs": [
        {
          "output_type": "stream",
          "name": "stdout",
          "text": [
            "Cubo: 0\n",
            "Cubo: 1\n",
            "Cubo: 8\n",
            "Cubo: 27\n",
            "Cubo: 64\n",
            "Cubo: 125\n",
            "Cubo: 216\n",
            "Cubo: 343\n",
            "Cubo: 512\n",
            "Cubo: 729\n"
          ]
        }
      ]
    },
    {
      "cell_type": "markdown",
      "metadata": {
        "id": "nmftmDNuq9Kc"
      },
      "source": [
        "## Ejercicio\n",
        "1. Calcula el cuadrado y el cubo de un arreglo de tamaño 100 de manera secuencial con funciones y calcula su tiempo de ejecución con `time.time()`\n",
        "2. calcula el cuadrado y el cubo usando procesos y calcula el tiempo de ejecución.\n",
        "3. Calcula el cuadrado y el cubo usando procesos y varía el start y join de los procesos, calcula el tiempo de ejecución.\n",
        "\n"
      ]
    },
    {
      "cell_type": "code",
      "metadata": {
        "colab": {
          "base_uri": "https://localhost:8080/"
        },
        "id": "3NTvLwWEqHXR",
        "outputId": "20b4e9a8-db98-41fc-819d-f606cc5ab2e7"
      },
      "source": [
        "import time\n",
        "import multiprocessing as mp\n",
        "\n",
        "def calc_cuad(numeros):\n",
        "  print(\"Calcula el cuadrado de los números\")\n",
        "  for n in numeros:\n",
        "    print(\"Cuadrado:\", n*n)\n",
        "\n",
        "\n",
        "def calc_cub(numeros):\n",
        "  for n in numeros:\n",
        "    print(\"Cubo:\", n*n*n)\n",
        "\n",
        "nums = range(100)\n",
        "t = time.time()\n",
        "calc_cuad(nums)\n",
        "calc_cub(nums)\n",
        "tf = time.time()-t\n",
        "print('Tiempo secuencial:', tf)\n",
        "\n",
        "p1 = mp.Process(target=calc_cuad, args=(nums,))\n",
        "p2 = mp.Process(target=calc_cub, args=(nums,))\n",
        "\n",
        "t = time.time()\n",
        "p1.start()\n",
        "p2.start()\n",
        "p1.join()\n",
        "p2.join()\n",
        "tf = time.time()-t\n",
        "print('Tiempo procesos', tf)\n",
        "\n",
        "\n",
        "p1_i = mp.Process(target=calc_cuad, args=(nums,))\n",
        "p2_i = mp.Process(target=calc_cub, args=(nums,))\n",
        "\n",
        "t = time.time()\n",
        "p1_i.start()\n",
        "p1_i.join()\n",
        "p2_i.start()\n",
        "p2_i.join()\n",
        "tf = time.time()-t\n",
        "print('Tiempo procesos intercaldos', tf)\n"
      ],
      "execution_count": null,
      "outputs": [
        {
          "output_type": "stream",
          "name": "stdout",
          "text": [
            "Calcula el cuadrado de los números\n",
            "Cuadrado: 0\n",
            "Cuadrado: 1\n",
            "Cuadrado: 4\n",
            "Cuadrado: 9\n",
            "Cuadrado: 16\n",
            "Cuadrado: 25\n",
            "Cuadrado: 36\n",
            "Cuadrado: 49\n",
            "Cuadrado: 64\n",
            "Cuadrado: 81\n",
            "Cuadrado: 100\n",
            "Cuadrado: 121\n",
            "Cuadrado: 144\n",
            "Cuadrado: 169\n",
            "Cuadrado: 196\n",
            "Cuadrado: 225\n",
            "Cuadrado: 256\n",
            "Cuadrado: 289\n",
            "Cuadrado: 324\n",
            "Cuadrado: 361\n",
            "Cuadrado: 400\n",
            "Cuadrado: 441\n",
            "Cuadrado: 484\n",
            "Cuadrado: 529\n",
            "Cuadrado: 576\n",
            "Cuadrado: 625\n",
            "Cuadrado: 676\n",
            "Cuadrado: 729\n",
            "Cuadrado: 784\n",
            "Cuadrado: 841\n",
            "Cuadrado: 900\n",
            "Cuadrado: 961\n",
            "Cuadrado: 1024\n",
            "Cuadrado: 1089\n",
            "Cuadrado: 1156\n",
            "Cuadrado: 1225\n",
            "Cuadrado: 1296\n",
            "Cuadrado: 1369\n",
            "Cuadrado: 1444\n",
            "Cuadrado: 1521\n",
            "Cuadrado: 1600\n",
            "Cuadrado: 1681\n",
            "Cuadrado: 1764\n",
            "Cuadrado: 1849\n",
            "Cuadrado: 1936\n",
            "Cuadrado: 2025\n",
            "Cuadrado: 2116\n",
            "Cuadrado: 2209\n",
            "Cuadrado: 2304\n",
            "Cuadrado: 2401\n",
            "Cuadrado: 2500\n",
            "Cuadrado: 2601\n",
            "Cuadrado: 2704\n",
            "Cuadrado: 2809\n",
            "Cuadrado: 2916\n",
            "Cuadrado: 3025\n",
            "Cuadrado: 3136\n",
            "Cuadrado: 3249\n",
            "Cuadrado: 3364\n",
            "Cuadrado: 3481\n",
            "Cuadrado: 3600\n",
            "Cuadrado: 3721\n",
            "Cuadrado: 3844\n",
            "Cuadrado: 3969\n",
            "Cuadrado: 4096\n",
            "Cuadrado: 4225\n",
            "Cuadrado: 4356\n",
            "Cuadrado: 4489\n",
            "Cuadrado: 4624\n",
            "Cuadrado: 4761\n",
            "Cuadrado: 4900\n",
            "Cuadrado: 5041\n",
            "Cuadrado: 5184\n",
            "Cuadrado: 5329\n",
            "Cuadrado: 5476\n",
            "Cuadrado: 5625\n",
            "Cuadrado: 5776\n",
            "Cuadrado: 5929\n",
            "Cuadrado: 6084\n",
            "Cuadrado: 6241\n",
            "Cuadrado: 6400\n",
            "Cuadrado: 6561\n",
            "Cuadrado: 6724\n",
            "Cuadrado: 6889\n",
            "Cuadrado: 7056\n",
            "Cuadrado: 7225\n",
            "Cuadrado: 7396\n",
            "Cuadrado: 7569\n",
            "Cuadrado: 7744\n",
            "Cuadrado: 7921\n",
            "Cuadrado: 8100\n",
            "Cuadrado: 8281\n",
            "Cuadrado: 8464\n",
            "Cuadrado: 8649\n",
            "Cuadrado: 8836\n",
            "Cuadrado: 9025\n",
            "Cuadrado: 9216\n",
            "Cuadrado: 9409\n",
            "Cuadrado: 9604\n",
            "Cuadrado: 9801\n",
            "Cubo: 0\n",
            "Cubo: 1\n",
            "Cubo: 8\n",
            "Cubo: 27\n",
            "Cubo: 64\n",
            "Cubo: 125\n",
            "Cubo: 216\n",
            "Cubo: 343\n",
            "Cubo: 512\n",
            "Cubo: 729\n",
            "Cubo: 1000\n",
            "Cubo: 1331\n",
            "Cubo: 1728\n",
            "Cubo: 2197\n",
            "Cubo: 2744\n",
            "Cubo: 3375\n",
            "Cubo: 4096\n",
            "Cubo: 4913\n",
            "Cubo: 5832\n",
            "Cubo: 6859\n",
            "Cubo: 8000\n",
            "Cubo: 9261\n",
            "Cubo: 10648\n",
            "Cubo: 12167\n",
            "Cubo: 13824\n",
            "Cubo: 15625\n",
            "Cubo: 17576\n",
            "Cubo: 19683\n",
            "Cubo: 21952\n",
            "Cubo: 24389\n",
            "Cubo: 27000\n",
            "Cubo: 29791\n",
            "Cubo: 32768\n",
            "Cubo: 35937\n",
            "Cubo: 39304\n",
            "Cubo: 42875\n",
            "Cubo: 46656\n",
            "Cubo: 50653\n",
            "Cubo: 54872\n",
            "Cubo: 59319\n",
            "Cubo: 64000\n",
            "Cubo: 68921\n",
            "Cubo: 74088\n",
            "Cubo: 79507\n",
            "Cubo: 85184\n",
            "Cubo: 91125\n",
            "Cubo: 97336\n",
            "Cubo: 103823\n",
            "Cubo: 110592\n",
            "Cubo: 117649\n",
            "Cubo: 125000\n",
            "Cubo: 132651\n",
            "Cubo: 140608\n",
            "Cubo: 148877\n",
            "Cubo: 157464\n",
            "Cubo: 166375\n",
            "Cubo: 175616\n",
            "Cubo: 185193\n",
            "Cubo: 195112\n",
            "Cubo: 205379\n",
            "Cubo: 216000\n",
            "Cubo: 226981\n",
            "Cubo: 238328\n",
            "Cubo: 250047\n",
            "Cubo: 262144\n",
            "Cubo: 274625\n",
            "Cubo: 287496\n",
            "Cubo: 300763\n",
            "Cubo: 314432\n",
            "Cubo: 328509\n",
            "Cubo: 343000\n",
            "Cubo: 357911\n",
            "Cubo: 373248\n",
            "Cubo: 389017\n",
            "Cubo: 405224\n",
            "Cubo: 421875\n",
            "Cubo: 438976\n",
            "Cubo: 456533\n",
            "Cubo: 474552\n",
            "Cubo: 493039\n",
            "Cubo: 512000\n",
            "Cubo: 531441\n",
            "Cubo: 551368\n",
            "Cubo: 571787\n",
            "Cubo: 592704\n",
            "Cubo: 614125\n",
            "Cubo: 636056\n",
            "Cubo: 658503\n",
            "Cubo: 681472\n",
            "Cubo: 704969\n",
            "Cubo: 729000\n",
            "Cubo: 753571\n",
            "Cubo: 778688\n",
            "Cubo: 804357\n",
            "Cubo: 830584\n",
            "Cubo: 857375\n",
            "Cubo: 884736\n",
            "Cubo: 912673\n",
            "Cubo: 941192\n",
            "Cubo: 970299\n",
            "Tiempo secuencial: 0.029844999313354492\n",
            "Calcula el cuadrado de los números\n",
            "Cuadrado: 0\n",
            "Cubo: 0\n",
            "Cuadrado: 1\n",
            "Cuadrado: 4\n",
            "Cuadrado: 9\n",
            "Cubo: 1\n",
            "Cubo: 8\n",
            "Cuadrado: 16\n",
            "Cuadrado: 25\n",
            "Cubo: 27\n",
            "Cuadrado: 36\n",
            "Cubo: 64\n",
            "Cuadrado: 49\n",
            "Cubo: 125\n",
            "Cubo: 216\n",
            "Cuadrado: 64\n",
            "Cuadrado: 81\n",
            "Cuadrado: 100\n",
            "Cuadrado: 121\n",
            "Cubo: 343\n",
            "Cuadrado: 144\n",
            "Cubo: 512\n",
            "Cuadrado: 169\n",
            "Cubo: 729\n",
            "Cuadrado: 196\n",
            "Cubo: 1000\n",
            "Cuadrado: 225\n",
            "Cubo: 1331\n",
            "Cuadrado: 256\n",
            "Cubo: 1728\n",
            "Cuadrado: 289\n",
            "Cubo: 2197\n",
            "Cuadrado: 324\n",
            "Cubo: 2744\n",
            "Cuadrado: 361\n",
            "Cubo: 3375\n",
            "Cuadrado: 400\n",
            "Cubo: 4096\n",
            "Cuadrado: 441\n",
            "Cubo: 4913\n",
            "Cuadrado: 484\n",
            "Cubo: 5832\n",
            "Cuadrado: 529\n",
            "Cubo: 6859\n",
            "Cubo: 8000\n",
            "Cuadrado: 576\n",
            "Cuadrado: 625\n",
            "Cubo: 9261\n",
            "Cubo: 10648\n",
            "Cuadrado: 676\n",
            "Cubo: 12167\n",
            "Cuadrado: 729\n",
            "Cubo: 13824\n",
            "Cuadrado: 784\n",
            "Cuadrado: 841\n",
            "Cubo: 15625\n",
            "Cubo: 17576\n",
            "Cuadrado: 900\n",
            "Cubo: 19683\n",
            "Cuadrado: 961\n",
            "Cubo: 21952\n",
            "Cuadrado: 1024\n",
            "Cubo: 24389\n",
            "Cubo: 27000\n",
            "Cuadrado: 1089\n",
            "Cuadrado: 1156\n",
            "Cubo: 29791\n",
            "Cuadrado: 1225\n",
            "Cuadrado: 1296\n",
            "Cubo: 32768\n",
            "Cubo: 35937\n",
            "Cubo: 39304\n",
            "Cubo: 42875\n",
            "Cubo: 46656\n",
            "Cubo: 50653\n",
            "Cubo: 54872\n",
            "Cubo: 59319\n",
            "Cubo: 64000\n",
            "Cubo: 68921\n",
            "Cuadrado: 1369\n",
            "Cubo: 74088\n",
            "Cubo: 79507\n",
            "Cuadrado: 1444\n",
            "Cubo: 85184\n",
            "Cubo: 91125\n",
            "Cubo: 97336\n",
            "Cubo: 103823\n",
            "Cubo: 110592\n",
            "Cubo: 117649\n",
            "Cuadrado: 1521\n",
            "Cubo: 125000\n",
            "Cuadrado: 1600\n",
            "Cuadrado: 1681\n",
            "Cuadrado: 1764\n",
            "Cubo: 132651\n",
            "Cuadrado: 1849\n",
            "Cuadrado: 1936\n",
            "Cuadrado: 2025\n",
            "Cubo: 140608\n",
            "Cubo: 148877\n",
            "Cuadrado: 2116\n",
            "Cuadrado: 2209\n",
            "Cuadrado: 2304\n",
            "Cubo: 157464\n",
            "Cubo: 166375\n",
            "Cuadrado: 2401\n",
            "Cubo: 175616\n",
            "Cuadrado: 2500\n",
            "Cubo: 185193\n",
            "Cubo: 195112\n",
            "Cubo: 205379\n",
            "Cuadrado: 2601\n",
            "Cuadrado: 2704\n",
            "Cubo: 216000\n",
            "Cuadrado: 2809\n",
            "Cuadrado: 2916\n",
            "Cuadrado: 3025\n",
            "Cubo: 226981\n",
            "Cubo: 238328\n",
            "Cuadrado: 3136\n",
            "Cuadrado: 3249\n",
            "Cubo: 250047\n",
            "Cuadrado: 3364\n",
            "Cuadrado: 3481\n",
            "Cubo: 262144\n",
            "Cuadrado: 3600\n",
            "Cuadrado: 3721\n",
            "Cubo: 274625\n",
            "Cuadrado: 3844\n",
            "Cubo: 287496\n",
            "Cuadrado: 3969\n",
            "Cuadrado: 4096\n",
            "Cuadrado: 4225\n",
            "Cuadrado: 4356\n",
            "Cubo: 300763\n",
            "Cubo: 314432\n",
            "Cubo: 328509\n",
            "Cuadrado: 4489\n",
            "Cubo: 343000\n",
            "Cuadrado: 4624\n",
            "Cuadrado: 4761\n",
            "Cuadrado: 4900\n",
            "Cuadrado: 5041\n",
            "Cubo: 357911\n",
            "Cuadrado: 5184\n",
            "Cuadrado: 5329\n",
            "Cuadrado: 5476\n",
            "Cubo: 373248\n",
            "Cubo: 389017\n",
            "Cuadrado: 5625\n",
            "Cubo: 405224\n",
            "Cuadrado: 5776\n",
            "Cuadrado: 5929\n",
            "Cuadrado: 6084\n",
            "Cubo: 421875\n",
            "Cuadrado: 6241\n",
            "Cuadrado: 6400\n",
            "Cubo: 438976\n",
            "Cubo: 456533\n",
            "Cubo: 474552\n",
            "Cuadrado: 6561\n",
            "Cubo: 493039\n",
            "Cuadrado: 6724\n",
            "Cubo: 512000\n",
            "Cuadrado: 6889\n",
            "Cubo: 531441\n",
            "Cubo: 551368\n",
            "Cubo: 571787\n",
            "Cubo: 592704\n",
            "Cuadrado: 7056\n",
            "Cubo: 614125\n",
            "Cuadrado: 7225\n",
            "Cubo: 636056\n",
            "Cubo: 658503\n",
            "Cuadrado: 7396\n",
            "Cubo: 681472\n",
            "Cubo: 704969\n",
            "Cubo: 729000\n",
            "Cubo: 753571\n",
            "Cubo: 778688\n",
            "Cuadrado: 7569\n",
            "Cubo: 804357\n",
            "Cubo: 830584\n",
            "Cuadrado: 7744\n",
            "Cuadrado: 7921\n",
            "Cubo: 857375\n",
            "Cuadrado: 8100\n",
            "Cuadrado: 8281\n",
            "Cuadrado: 8464\n",
            "Cuadrado: 8649\n",
            "Cubo: 884736\n",
            "Cuadrado: 8836\n",
            "Cubo: 912673\n",
            "Cubo: 941192\n",
            "Cuadrado: 9025\n",
            "Cuadrado: 9216\n",
            "Cuadrado: 9409\n",
            "Cubo: 970299\n",
            "Cuadrado: 9604\n",
            "Cuadrado: 9801\n",
            "Tiempo procesos 0.683696985244751\n",
            "Calcula el cuadrado de los números\n",
            "Cuadrado: 0\n",
            "Cuadrado: 1\n",
            "Cuadrado: 4\n",
            "Cuadrado: 9\n",
            "Cuadrado: 16\n",
            "Cuadrado: 25\n",
            "Cuadrado: 36\n",
            "Cuadrado: 49\n",
            "Cuadrado: 64\n",
            "Cuadrado: 81\n",
            "Cuadrado: 100\n",
            "Cuadrado: 121\n",
            "Cuadrado: 144\n",
            "Cuadrado: 169\n",
            "Cuadrado: 196\n",
            "Cuadrado: 225\n",
            "Cuadrado: 256\n",
            "Cuadrado: 289\n",
            "Cuadrado: 324\n",
            "Cuadrado: 361\n",
            "Cuadrado: 400\n",
            "Cuadrado: 441\n",
            "Cuadrado: 484\n",
            "Cuadrado: 529\n",
            "Cuadrado: 576\n",
            "Cuadrado: 625\n",
            "Cuadrado: 676\n",
            "Cuadrado: 729\n",
            "Cuadrado: 784\n",
            "Cuadrado: 841\n",
            "Cuadrado: 900\n",
            "Cuadrado: 961\n",
            "Cuadrado: 1024\n",
            "Cuadrado: 1089\n",
            "Cuadrado: 1156\n",
            "Cuadrado: 1225\n",
            "Cuadrado: 1296\n",
            "Cuadrado: 1369\n",
            "Cuadrado: 1444\n",
            "Cuadrado: 1521\n",
            "Cuadrado: 1600\n",
            "Cuadrado: 1681\n",
            "Cuadrado: 1764\n",
            "Cuadrado: 1849\n",
            "Cuadrado: 1936\n",
            "Cuadrado: 2025\n",
            "Cuadrado: 2116\n",
            "Cuadrado: 2209\n",
            "Cuadrado: 2304\n",
            "Cuadrado: 2401\n",
            "Cuadrado: 2500\n",
            "Cuadrado: 2601\n",
            "Cuadrado: 2704\n",
            "Cuadrado: 2809\n",
            "Cuadrado: 2916\n",
            "Cuadrado: 3025\n",
            "Cuadrado: 3136\n",
            "Cuadrado: 3249\n",
            "Cuadrado: 3364\n",
            "Cuadrado: 3481\n",
            "Cuadrado: 3600\n",
            "Cuadrado: 3721\n",
            "Cuadrado: 3844\n",
            "Cuadrado: 3969\n",
            "Cuadrado: 4096\n",
            "Cuadrado: 4225\n",
            "Cuadrado: 4356\n",
            "Cuadrado: 4489\n",
            "Cuadrado: 4624\n",
            "Cuadrado: 4761\n",
            "Cuadrado: 4900\n",
            "Cuadrado: 5041\n",
            "Cuadrado: 5184\n",
            "Cuadrado: 5329\n",
            "Cuadrado: 5476\n",
            "Cuadrado: 5625\n",
            "Cuadrado: 5776\n",
            "Cuadrado: 5929\n",
            "Cuadrado: 6084\n",
            "Cuadrado: 6241\n",
            "Cuadrado: 6400\n",
            "Cuadrado: 6561\n",
            "Cuadrado: 6724\n",
            "Cuadrado: 6889\n",
            "Cuadrado: 7056\n",
            "Cuadrado: 7225\n",
            "Cuadrado: 7396\n",
            "Cuadrado: 7569\n",
            "Cuadrado: 7744\n",
            "Cuadrado: 7921\n",
            "Cuadrado: 8100\n",
            "Cuadrado: 8281\n",
            "Cuadrado: 8464\n",
            "Cuadrado: 8649\n",
            "Cuadrado: 8836\n",
            "Cuadrado: 9025\n",
            "Cuadrado: 9216\n",
            "Cuadrado: 9409\n",
            "Cuadrado: 9604\n",
            "Cuadrado: 9801\n",
            "Cubo: 0\n",
            "Cubo: 1\n",
            "Cubo: 8\n",
            "Cubo: 27\n",
            "Cubo: 64\n",
            "Cubo: 125\n",
            "Cubo: 216\n",
            "Cubo: 343\n",
            "Cubo: 512\n",
            "Cubo: 729\n",
            "Cubo: 1000\n",
            "Cubo: 1331\n",
            "Cubo: 1728\n",
            "Cubo: 2197\n",
            "Cubo: 2744\n",
            "Cubo: 3375\n",
            "Cubo: 4096\n",
            "Cubo: 4913\n",
            "Cubo: 5832\n",
            "Cubo: 6859\n",
            "Cubo: 8000\n",
            "Cubo: 9261\n",
            "Cubo: 10648\n",
            "Cubo: 12167\n",
            "Cubo: 13824\n",
            "Cubo: 15625\n",
            "Cubo: 17576\n",
            "Cubo: 19683\n",
            "Cubo: 21952\n",
            "Cubo: 24389\n",
            "Cubo: 27000\n",
            "Cubo: 29791\n",
            "Cubo: 32768\n",
            "Cubo: 35937\n",
            "Cubo: 39304\n",
            "Cubo: 42875\n",
            "Cubo: 46656\n",
            "Cubo: 50653\n",
            "Cubo: 54872\n",
            "Cubo: 59319\n",
            "Cubo: 64000\n",
            "Cubo: 68921\n",
            "Cubo: 74088\n",
            "Cubo: 79507\n",
            "Cubo: 85184\n",
            "Cubo: 91125\n",
            "Cubo: 97336\n",
            "Cubo: 103823\n",
            "Cubo: 110592\n",
            "Cubo: 117649\n",
            "Cubo: 125000\n",
            "Cubo: 132651\n",
            "Cubo: 140608\n",
            "Cubo: 148877\n",
            "Cubo: 157464\n",
            "Cubo: 166375\n",
            "Cubo: 175616\n",
            "Cubo: 185193\n",
            "Cubo: 195112\n",
            "Cubo: 205379\n",
            "Cubo: 216000\n",
            "Cubo: 226981\n",
            "Cubo: 238328\n",
            "Cubo: 250047\n",
            "Cubo: 262144\n",
            "Cubo: 274625\n",
            "Cubo: 287496\n",
            "Cubo: 300763\n",
            "Cubo: 314432\n",
            "Cubo: 328509\n",
            "Cubo: 343000\n",
            "Cubo: 357911\n",
            "Cubo: 373248\n",
            "Cubo: 389017\n",
            "Cubo: 405224\n",
            "Cubo: 421875\n",
            "Cubo: 438976\n",
            "Cubo: 456533\n",
            "Cubo: 474552\n",
            "Cubo: 493039\n",
            "Cubo: 512000\n",
            "Cubo: 531441\n",
            "Cubo: 551368\n",
            "Cubo: 571787\n",
            "Cubo: 592704\n",
            "Cubo: 614125\n",
            "Cubo: 636056\n",
            "Cubo: 658503\n",
            "Cubo: 681472\n",
            "Cubo: 704969\n",
            "Cubo: 778688\n",
            "Cubo: 729000\n",
            "Cubo: 753571\n",
            "Cubo: 804357\n",
            "Cubo: 830584\n",
            "Cubo: 857375\n",
            "Cubo: 884736\n",
            "Cubo: 912673\n",
            "Cubo: 941192\n",
            "Cubo: 970299\n",
            "Tiempo procesos intercaldos 0.8325207233428955\n"
          ]
        }
      ]
    },
    {
      "cell_type": "code",
      "metadata": {
        "colab": {
          "base_uri": "https://localhost:8080/"
        },
        "id": "J9ese19sEFht",
        "outputId": "21e78393-c8b1-4b92-e775-612eb1a7a09f"
      },
      "source": [
        "import multiprocessing as mp\n",
        "import time\n",
        "manager = multiprocessing.Manager()\n",
        "nums_res = manager.list()\n",
        "\n",
        "def calc_cuad(numeros):\n",
        "    nums_res\n",
        "    for n in numeros:\n",
        "        print('cuadrado:', n * n )\n",
        "        nums_res.append(n * n)\n",
        "\n",
        "    #print(\"Resultado del proceso:\", nums_res)\n",
        "\n",
        "\n",
        "nums = range(10)\n",
        "\n",
        "t = time.time()\n",
        "p1 = mp.Process(target=calc_cuad, args=(nums,))\n",
        "\n",
        "p1.start()\n",
        "p1.join()\n",
        "\n",
        "print(\"Tiempo de ejecución: \", time.time()-t)\n",
        "print(\"Resultado del proceso:\", nums_res)\n",
        "print(\"Finaliza ejecución\")"
      ],
      "execution_count": null,
      "outputs": [
        {
          "output_type": "stream",
          "name": "stdout",
          "text": [
            "cuadrado: 0\n",
            "cuadrado: 1\n",
            "cuadrado: 4\n",
            "cuadrado: 9\n",
            "cuadrado: 16\n",
            "cuadrado: 25\n",
            "cuadrado: 36\n",
            "cuadrado: 49\n",
            "cuadrado: 64\n",
            "cuadrado: 81\n",
            "Tiempo de ejecución:  0.07680845260620117\n",
            "Resultado del proceso: [0, 1, 4, 9, 16, 25, 36, 49, 64, 81]\n",
            "Finaliza ejecución\n"
          ]
        }
      ]
    },
    {
      "cell_type": "markdown",
      "metadata": {
        "id": "Q22KH_2Pa8Pw"
      },
      "source": [
        "Con el método `cpu_count()` se muestra el número de procesadores del sistema que se está utilizando.\n"
      ]
    },
    {
      "cell_type": "code",
      "metadata": {
        "colab": {
          "base_uri": "https://localhost:8080/"
        },
        "id": "Q0m-q6nBa4Qx",
        "outputId": "c562c506-8884-46e4-9bb2-74f8543d0b8c"
      },
      "source": [
        "import multiprocessing\n",
        "multiprocessing.cpu_count()"
      ],
      "execution_count": null,
      "outputs": [
        {
          "output_type": "execute_result",
          "data": {
            "text/plain": [
              "2"
            ]
          },
          "metadata": {},
          "execution_count": 4
        }
      ]
    },
    {
      "cell_type": "markdown",
      "metadata": {
        "id": "4S-g5BHbbx8l"
      },
      "source": [
        "El identificador del proceso actual se accede por medio de `current_process().pid`"
      ]
    },
    {
      "cell_type": "code",
      "metadata": {
        "colab": {
          "base_uri": "https://localhost:8080/"
        },
        "id": "4kOd0apHb7hr",
        "outputId": "a131175a-f87d-4053-fde6-467279b71c67"
      },
      "source": [
        "print(multiprocessing.current_process().pid)"
      ],
      "execution_count": null,
      "outputs": [
        {
          "output_type": "stream",
          "name": "stdout",
          "text": [
            "65\n"
          ]
        }
      ]
    },
    {
      "cell_type": "code",
      "metadata": {
        "colab": {
          "base_uri": "https://localhost:8080/"
        },
        "id": "kAFto524cNim",
        "outputId": "5f8fd7cf-8ba6-416e-94f4-88bfbe51a3e6"
      },
      "source": [
        "import time\n",
        "\n",
        "def TareaHijo():\n",
        "  print(\"Proceso Hijo con PID: {}\".format(multiprocessing.current_process().pid))\n",
        "  time.sleep(3)\n",
        "  print(\"Fin del proceso hijo\")\n",
        "\n",
        "def main():\n",
        "  print(\"Proceso Padre con PID: {}\".format(multiprocessing.current_process().pid))\n",
        "  mi_proceso = multiprocessing.Process(target=TareaHijo)\n",
        "  mi_proceso.start()\n",
        "  mi_proceso.join()\n",
        "  print(\"Fin del proceso padre\")\n",
        "\n",
        "main()\n"
      ],
      "execution_count": null,
      "outputs": [
        {
          "output_type": "stream",
          "name": "stdout",
          "text": [
            "Proceso Padre con PID: 65\n",
            "Proceso Hijo con PID: 302\n",
            "Fin del proceso hijo\n",
            "Fin del proceso padre\n"
          ]
        }
      ]
    },
    {
      "cell_type": "markdown",
      "metadata": {
        "id": "ETZl5tC8d1HS"
      },
      "source": [
        "Es posible asignar un **nombre** a un proceso hijo que ha sido creado, por medio del argumento `name` se asigna el nombre del proceso hijo.\n"
      ]
    },
    {
      "cell_type": "code",
      "metadata": {
        "colab": {
          "base_uri": "https://localhost:8080/"
        },
        "id": "6yDnuEfPeCiK",
        "outputId": "c2e853bb-421c-49b3-f9a1-cdee2c4a3b3e"
      },
      "source": [
        "def mi_proceso():\n",
        "  print(\"Proceso con nombre: {}\".format(multiprocessing.current_process().name))\n",
        "  \n",
        "def main():\n",
        "  phijo = multiprocessing.Process(target=mi_proceso, name=\"Proceso_LCD-CC\")\n",
        "  phijo.start()\n",
        "  phijo.join()\n",
        "\n",
        "main()"
      ],
      "execution_count": null,
      "outputs": [
        {
          "output_type": "stream",
          "name": "stdout",
          "text": [
            "Proceso con nombre: Proceso_LCD-CC\n"
          ]
        }
      ]
    },
    {
      "cell_type": "markdown",
      "metadata": {
        "id": "KIMVG8BLeiE9"
      },
      "source": [
        "**Ejercicio** Crea tres procesos con nombre, cada proceso escribirá su **nombre**, su **pid** y el **pid del padre**"
      ]
    },
    {
      "cell_type": "code",
      "metadata": {
        "colab": {
          "base_uri": "https://localhost:8080/"
        },
        "id": "S0a4Bvule6uq",
        "outputId": "957a9592-e35d-4e7d-9da7-d8c73dd46200"
      },
      "source": [
        "import os\n",
        "\n",
        "def tarea_proceso():\n",
        "  print(\"Proceso con nombre: {}\".format(multiprocessing.current_process().name))\n",
        "  print(\"Proceso Hijo con PID: {}\".format(multiprocessing.current_process().pid))\n",
        "  print(\"Proceso Padre con PID: {}\".format(os.getppid()))\n",
        "\n",
        "def main():\n",
        "  proceso1 =  multiprocessing.Process(target=tarea_proceso, name=\"Proceso_1\")\n",
        "  proceso2 =  multiprocessing.Process(target=tarea_proceso, name=\"Proceso_2\")\n",
        "  proceso3 =  multiprocessing.Process(target=tarea_proceso, name=\"Proceso_3\")\n",
        "\n",
        "  proceso1.start()\n",
        "  proceso2.start()\n",
        "  proceso3.start()\n",
        "  proceso1.join()\n",
        "  proceso2.join()\n",
        "  proceso3.join()\n",
        "\n",
        "main()"
      ],
      "execution_count": null,
      "outputs": [
        {
          "output_type": "stream",
          "name": "stdout",
          "text": [
            "Proceso con nombre: Proceso_1\n",
            "Proceso con nombre: Proceso_2\n",
            "Proceso Hijo con PID: 826\n",
            "Proceso Padre con PID: 65\n",
            "Proceso Hijo con PID: 829\n",
            "Proceso con nombre: Proceso_3\n",
            "Proceso Padre con PID: 65\n",
            "Proceso Hijo con PID: 832\n",
            "Proceso Padre con PID: 65\n"
          ]
        }
      ]
    },
    {
      "cell_type": "markdown",
      "metadata": {
        "id": "djAsMRNsiwKT"
      },
      "source": [
        "Un proceso que está en ejecución puede ser cancelado por medio de la función `terminate()`"
      ]
    },
    {
      "cell_type": "code",
      "metadata": {
        "colab": {
          "base_uri": "https://localhost:8080/"
        },
        "id": "sBPE19aviyPd",
        "outputId": "76bde6f0-62d5-4cac-9f4e-8b1c0c7ede2d"
      },
      "source": [
        "def TareaProceso():\n",
        "  pactual = multiprocessing.current_process()\n",
        "  print(\"Proces hijo pid: {}\".format(pactual.pid))\n",
        "  time.sleep(5)\n",
        "  print(\"Continual la ejecución\")\n",
        "\n",
        "miproceso = multiprocessing.Process(target=TareaProceso)\n",
        "miproceso.start()\n",
        "time.sleep(10)\n",
        "print(\"Proceso padre ha terminado, termina el proceso main\")\n",
        "print(\"Proceso hijo terminado...\")\n",
        "miproceso.terminate()\n",
        "print(\"Proceso hijo finaliza con exito\")"
      ],
      "execution_count": null,
      "outputs": [
        {
          "output_type": "stream",
          "name": "stdout",
          "text": [
            "Proces hijo pid: 1030\n",
            "Continual la ejecución\n",
            "Proceso padre ha terminado, termina el proceso main\n",
            "Proceso hijo terminado...\n",
            "Proceso hijo finaliza con exito\n"
          ]
        }
      ]
    },
    {
      "cell_type": "markdown",
      "metadata": {
        "id": "rbS_oR5am6_9"
      },
      "source": [
        "## Comunicación entre procesos\n",
        "\n",
        "La principal forma de comunicación entre procesos en python se lleva a cabo por medio de tuberías **pipe** y colas **queue**. Específicamente, brindan opciones de transmisión de mensajes para facilitar coumunicación entre procesos: tuberías para conexiones entre dos procesos y colas para múltiples productores y consumidores.\n",
        "\n",
        "Veremos el uso de colas, específicamente la clase Queue del módulo multiprocessing. la implementación de la clase Queue es segura para subprocesos y procesos.\n",
        "\n",
        "Se prefiere el uso de una **cola de mensajes** para la comunicación entre procesos en lugar de compartir recursos ta que si ciertos procesos manejan mal la memoria y la corrompen habrá numerosos elementos indeseables y consecuencias impredecibles. SIn embargo, si un proceos no puede manejar su mensaje correctamente, otros elementos de la cola permanecerán intactos.\n",
        "\n",
        "Para manejar el objero **Queue** necesitamos usar dos método principales:\n",
        "* `get()` regresa el siguiente item de la cola.\n",
        "* `put()` agrega un item a la cola."
      ]
    },
    {
      "cell_type": "code",
      "metadata": {
        "colab": {
          "base_uri": "https://localhost:8080/"
        },
        "id": "O0HKhld7oVNi",
        "outputId": "a9e69a5a-3d4c-4be5-a5fb-f65e14e60327"
      },
      "source": [
        "from multiprocessing import Process, Queue\n",
        "\n",
        "def worker(num, q):\n",
        "  print(\"Se pone en la cola: \", num*num)\n",
        "  q.put(num*num)\n",
        "\n",
        "if __name__ == \"__main__\":\n",
        "  my_queue = Queue()\n",
        "  p = Process(target=worker, args=(5, my_queue))\n",
        "  p.start()\n",
        "  p.join()\n",
        "\n",
        "  print(\"Se lee de la cola: \", my_queue.get())"
      ],
      "execution_count": null,
      "outputs": [
        {
          "output_type": "stream",
          "name": "stdout",
          "text": [
            "Se pone en la cola:  25\n",
            "Se lee de la cola:  25\n"
          ]
        }
      ]
    },
    {
      "cell_type": "code",
      "metadata": {
        "id": "T9e3LmkvpqH6"
      },
      "source": [
        "from multiprocessing import Process, Queue\n",
        "\n",
        "def worker(num, q):\n",
        "  print(\"Se pone en la cola: \", num*num)\n",
        "  q.put(num*num)\n",
        "\n",
        "if __name__ == \"__main__\":\n",
        "  my_queue = Queue()\n",
        "  p = Process(target=worker, args=(5, my_queue))\n",
        "  p.start()\n",
        "  p.join()\n",
        "\n",
        "  print(\"Se lee de la cola: \", my_queue.get())"
      ],
      "execution_count": null,
      "outputs": []
    }
  ]
}